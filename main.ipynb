{
 "cells": [
  {
   "cell_type": "code",
   "execution_count": 79,
   "metadata": {},
   "outputs": [],
   "source": [
    "import pandas as pd\n",
    "import numpy as np\n",
    "import matplotlib.pyplot as plt\n",
    "from sklearn.linear_model import LinearRegression\n",
    "import os"
   ]
  },
  {
   "cell_type": "code",
   "execution_count": 80,
   "metadata": {},
   "outputs": [
    {
     "data": {
      "text/html": [
       "<div>\n",
       "<style scoped>\n",
       "    .dataframe tbody tr th:only-of-type {\n",
       "        vertical-align: middle;\n",
       "    }\n",
       "\n",
       "    .dataframe tbody tr th {\n",
       "        vertical-align: top;\n",
       "    }\n",
       "\n",
       "    .dataframe thead th {\n",
       "        text-align: right;\n",
       "    }\n",
       "</style>\n",
       "<table border=\"1\" class=\"dataframe\">\n",
       "  <thead>\n",
       "    <tr style=\"text-align: right;\">\n",
       "      <th></th>\n",
       "      <th>Country Name</th>\n",
       "      <th>Country Code</th>\n",
       "      <th>Indicator Name</th>\n",
       "      <th>Indicator Code</th>\n",
       "      <th>1960</th>\n",
       "      <th>1961</th>\n",
       "      <th>1962</th>\n",
       "      <th>1963</th>\n",
       "      <th>1964</th>\n",
       "      <th>1965</th>\n",
       "      <th>...</th>\n",
       "      <th>2014</th>\n",
       "      <th>2015</th>\n",
       "      <th>2016</th>\n",
       "      <th>2017</th>\n",
       "      <th>2018</th>\n",
       "      <th>2019</th>\n",
       "      <th>2020</th>\n",
       "      <th>2021</th>\n",
       "      <th>2022</th>\n",
       "      <th>Unnamed: 67</th>\n",
       "    </tr>\n",
       "  </thead>\n",
       "  <tbody>\n",
       "    <tr>\n",
       "      <th>0</th>\n",
       "      <td>Aruba</td>\n",
       "      <td>ABW</td>\n",
       "      <td>PIB (US$ a precios actuales)</td>\n",
       "      <td>NY.GDP.MKTP.CD</td>\n",
       "      <td>NaN</td>\n",
       "      <td>NaN</td>\n",
       "      <td>NaN</td>\n",
       "      <td>NaN</td>\n",
       "      <td>NaN</td>\n",
       "      <td>NaN</td>\n",
       "      <td>...</td>\n",
       "      <td>2.791061e+09</td>\n",
       "      <td>2.963128e+09</td>\n",
       "      <td>2.983799e+09</td>\n",
       "      <td>3.092179e+09</td>\n",
       "      <td>3.276188e+09</td>\n",
       "      <td>3.395794e+09</td>\n",
       "      <td>2.610039e+09</td>\n",
       "      <td>3.126019e+09</td>\n",
       "      <td>NaN</td>\n",
       "      <td>NaN</td>\n",
       "    </tr>\n",
       "    <tr>\n",
       "      <th>1</th>\n",
       "      <td>NaN</td>\n",
       "      <td>AFE</td>\n",
       "      <td>PIB (US$ a precios actuales)</td>\n",
       "      <td>NY.GDP.MKTP.CD</td>\n",
       "      <td>2.112502e+10</td>\n",
       "      <td>2.161623e+10</td>\n",
       "      <td>2.350628e+10</td>\n",
       "      <td>2.804836e+10</td>\n",
       "      <td>2.592067e+10</td>\n",
       "      <td>2.947210e+10</td>\n",
       "      <td>...</td>\n",
       "      <td>1.006526e+12</td>\n",
       "      <td>9.273485e+11</td>\n",
       "      <td>8.851764e+11</td>\n",
       "      <td>1.021043e+12</td>\n",
       "      <td>1.007196e+12</td>\n",
       "      <td>1.000834e+12</td>\n",
       "      <td>9.275933e+11</td>\n",
       "      <td>1.081998e+12</td>\n",
       "      <td>1.169484e+12</td>\n",
       "      <td>NaN</td>\n",
       "    </tr>\n",
       "    <tr>\n",
       "      <th>2</th>\n",
       "      <td>Afganistán</td>\n",
       "      <td>AFG</td>\n",
       "      <td>PIB (US$ a precios actuales)</td>\n",
       "      <td>NY.GDP.MKTP.CD</td>\n",
       "      <td>5.377778e+08</td>\n",
       "      <td>5.488889e+08</td>\n",
       "      <td>5.466667e+08</td>\n",
       "      <td>7.511112e+08</td>\n",
       "      <td>8.000000e+08</td>\n",
       "      <td>1.006667e+09</td>\n",
       "      <td>...</td>\n",
       "      <td>2.055058e+10</td>\n",
       "      <td>1.999814e+10</td>\n",
       "      <td>1.801955e+10</td>\n",
       "      <td>1.889635e+10</td>\n",
       "      <td>1.841886e+10</td>\n",
       "      <td>1.890450e+10</td>\n",
       "      <td>2.014345e+10</td>\n",
       "      <td>1.458314e+10</td>\n",
       "      <td>NaN</td>\n",
       "      <td>NaN</td>\n",
       "    </tr>\n",
       "    <tr>\n",
       "      <th>3</th>\n",
       "      <td>NaN</td>\n",
       "      <td>AFW</td>\n",
       "      <td>PIB (US$ a precios actuales)</td>\n",
       "      <td>NY.GDP.MKTP.CD</td>\n",
       "      <td>1.044764e+10</td>\n",
       "      <td>1.117321e+10</td>\n",
       "      <td>1.199053e+10</td>\n",
       "      <td>1.272769e+10</td>\n",
       "      <td>1.389811e+10</td>\n",
       "      <td>1.492979e+10</td>\n",
       "      <td>...</td>\n",
       "      <td>8.943225e+11</td>\n",
       "      <td>7.686447e+11</td>\n",
       "      <td>6.913634e+11</td>\n",
       "      <td>6.848988e+11</td>\n",
       "      <td>7.670257e+11</td>\n",
       "      <td>8.225384e+11</td>\n",
       "      <td>7.864600e+11</td>\n",
       "      <td>8.444597e+11</td>\n",
       "      <td>8.778633e+11</td>\n",
       "      <td>NaN</td>\n",
       "    </tr>\n",
       "    <tr>\n",
       "      <th>4</th>\n",
       "      <td>Angola</td>\n",
       "      <td>AGO</td>\n",
       "      <td>PIB (US$ a precios actuales)</td>\n",
       "      <td>NY.GDP.MKTP.CD</td>\n",
       "      <td>NaN</td>\n",
       "      <td>NaN</td>\n",
       "      <td>NaN</td>\n",
       "      <td>NaN</td>\n",
       "      <td>NaN</td>\n",
       "      <td>NaN</td>\n",
       "      <td>...</td>\n",
       "      <td>1.372444e+11</td>\n",
       "      <td>8.721930e+10</td>\n",
       "      <td>4.984049e+10</td>\n",
       "      <td>6.897277e+10</td>\n",
       "      <td>7.779294e+10</td>\n",
       "      <td>6.930911e+10</td>\n",
       "      <td>5.024137e+10</td>\n",
       "      <td>6.568544e+10</td>\n",
       "      <td>1.067136e+11</td>\n",
       "      <td>NaN</td>\n",
       "    </tr>\n",
       "  </tbody>\n",
       "</table>\n",
       "<p>5 rows × 68 columns</p>\n",
       "</div>"
      ],
      "text/plain": [
       "  Country Name Country Code                Indicator Name  Indicator Code  \\\n",
       "0        Aruba          ABW  PIB (US$ a precios actuales)  NY.GDP.MKTP.CD   \n",
       "1          NaN          AFE  PIB (US$ a precios actuales)  NY.GDP.MKTP.CD   \n",
       "2   Afganistán          AFG  PIB (US$ a precios actuales)  NY.GDP.MKTP.CD   \n",
       "3          NaN          AFW  PIB (US$ a precios actuales)  NY.GDP.MKTP.CD   \n",
       "4       Angola          AGO  PIB (US$ a precios actuales)  NY.GDP.MKTP.CD   \n",
       "\n",
       "           1960          1961          1962          1963          1964  \\\n",
       "0           NaN           NaN           NaN           NaN           NaN   \n",
       "1  2.112502e+10  2.161623e+10  2.350628e+10  2.804836e+10  2.592067e+10   \n",
       "2  5.377778e+08  5.488889e+08  5.466667e+08  7.511112e+08  8.000000e+08   \n",
       "3  1.044764e+10  1.117321e+10  1.199053e+10  1.272769e+10  1.389811e+10   \n",
       "4           NaN           NaN           NaN           NaN           NaN   \n",
       "\n",
       "           1965  ...          2014          2015          2016          2017  \\\n",
       "0           NaN  ...  2.791061e+09  2.963128e+09  2.983799e+09  3.092179e+09   \n",
       "1  2.947210e+10  ...  1.006526e+12  9.273485e+11  8.851764e+11  1.021043e+12   \n",
       "2  1.006667e+09  ...  2.055058e+10  1.999814e+10  1.801955e+10  1.889635e+10   \n",
       "3  1.492979e+10  ...  8.943225e+11  7.686447e+11  6.913634e+11  6.848988e+11   \n",
       "4           NaN  ...  1.372444e+11  8.721930e+10  4.984049e+10  6.897277e+10   \n",
       "\n",
       "           2018          2019          2020          2021          2022  \\\n",
       "0  3.276188e+09  3.395794e+09  2.610039e+09  3.126019e+09           NaN   \n",
       "1  1.007196e+12  1.000834e+12  9.275933e+11  1.081998e+12  1.169484e+12   \n",
       "2  1.841886e+10  1.890450e+10  2.014345e+10  1.458314e+10           NaN   \n",
       "3  7.670257e+11  8.225384e+11  7.864600e+11  8.444597e+11  8.778633e+11   \n",
       "4  7.779294e+10  6.930911e+10  5.024137e+10  6.568544e+10  1.067136e+11   \n",
       "\n",
       "   Unnamed: 67  \n",
       "0          NaN  \n",
       "1          NaN  \n",
       "2          NaN  \n",
       "3          NaN  \n",
       "4          NaN  \n",
       "\n",
       "[5 rows x 68 columns]"
      ]
     },
     "execution_count": 80,
     "metadata": {},
     "output_type": "execute_result"
    }
   ],
   "source": [
    "# Reading the file and skip the first 4 rows\n",
    "gdp_df = pd.read_csv(\"API_NY.GDP.MKTP.CD_DS2_es_csv_v2_5998674.csv\", skiprows=4)\n",
    "gdp_df.head(5)"
   ]
  },
  {
   "cell_type": "code",
   "execution_count": 81,
   "metadata": {},
   "outputs": [
    {
     "data": {
      "text/html": [
       "<div>\n",
       "<style scoped>\n",
       "    .dataframe tbody tr th:only-of-type {\n",
       "        vertical-align: middle;\n",
       "    }\n",
       "\n",
       "    .dataframe tbody tr th {\n",
       "        vertical-align: top;\n",
       "    }\n",
       "\n",
       "    .dataframe thead th {\n",
       "        text-align: right;\n",
       "    }\n",
       "</style>\n",
       "<table border=\"1\" class=\"dataframe\">\n",
       "  <thead>\n",
       "    <tr style=\"text-align: right;\">\n",
       "      <th></th>\n",
       "      <th>YEAR</th>\n",
       "      <th>GDP</th>\n",
       "    </tr>\n",
       "  </thead>\n",
       "  <tbody>\n",
       "    <tr>\n",
       "      <th>10</th>\n",
       "      <td>1970</td>\n",
       "      <td>2.158384e+11</td>\n",
       "    </tr>\n",
       "    <tr>\n",
       "      <th>11</th>\n",
       "      <td>1971</td>\n",
       "      <td>2.499851e+11</td>\n",
       "    </tr>\n",
       "    <tr>\n",
       "      <th>12</th>\n",
       "      <td>1972</td>\n",
       "      <td>2.998015e+11</td>\n",
       "    </tr>\n",
       "    <tr>\n",
       "      <th>13</th>\n",
       "      <td>1973</td>\n",
       "      <td>3.983740e+11</td>\n",
       "    </tr>\n",
       "    <tr>\n",
       "      <th>14</th>\n",
       "      <td>1974</td>\n",
       "      <td>4.453035e+11</td>\n",
       "    </tr>\n",
       "  </tbody>\n",
       "</table>\n",
       "</div>"
      ],
      "text/plain": [
       "    YEAR           GDP\n",
       "10  1970  2.158384e+11\n",
       "11  1971  2.499851e+11\n",
       "12  1972  2.998015e+11\n",
       "13  1973  3.983740e+11\n",
       "14  1974  4.453035e+11"
      ]
     },
     "execution_count": 81,
     "metadata": {},
     "output_type": "execute_result"
    }
   ],
   "source": [
    "\n",
    "df = gdp_df[gdp_df['Country Name'] == 'Alemania']\n",
    "df = df.drop(columns=['Country Name','Country Code', 'Indicator Name', 'Indicator Code'])\n",
    "df = df.transpose()\n",
    "df = df.reset_index()\n",
    "df = df.rename(columns={'index': 'YEAR', 55: 'GDP'})\n",
    "df = df[(df['YEAR'] > '1969') & (df['YEAR'] < '2022')]\n",
    "\n",
    "germany_gdp_df = df\n",
    "germany_gdp_df.head()"
   ]
  },
  {
   "cell_type": "markdown",
   "metadata": {},
   "source": [
    "### Plot 1. GDP-YEARS"
   ]
  },
  {
   "cell_type": "code",
   "execution_count": 82,
   "metadata": {},
   "outputs": [
    {
     "data": {
      "image/png": "[encoded data removed]",
      "text/plain": [
       "<Figure size 640x480 with 1 Axes>"
      ]
     },
     "metadata": {},
     "output_type": "display_data"
    }
   ],
   "source": [
    "graph = germany_gdp_df.plot.scatter(x='YEAR',y='GDP')\n",
    "graph.set_xticks(germany_gdp_df['YEAR'][::2]) # Show you a lable every 2 years\n",
    "graph.set_xticklabels(germany_gdp_df['YEAR'][::2], rotation=90) # Rotate the labels 90°\n",
    "\n",
    "plt.show()"
   ]
  },
  {
   "cell_type": "code",
   "execution_count": 83,
   "metadata": {},
   "outputs": [],
   "source": [
    "# In ML it is normal to represent \"m\" as \"w\".\n",
    "w = 215838448137.658\n",
    "b = 0"
   ]
  },
  {
   "cell_type": "code",
   "execution_count": 84,
   "metadata": {},
   "outputs": [
    {
     "data": {
      "image/png": "[encoded data removed]",
      "text/plain": [
       "<Figure size 640x480 with 1 Axes>"
      ]
     },
     "metadata": {},
     "output_type": "display_data"
    }
   ],
   "source": [
    "# Calculation of the regression line (using w and b)\n",
    "x = np.linspace(float(germany_gdp_df['YEAR'].min()), float(germany_gdp_df['YEAR'].max()), 100)\n",
    "y = w * x + b\n",
    "\n",
    "# Create the scatter plot\n",
    "graph = germany_gdp_df.plot.scatter(x='YEAR', y='GDP')\n",
    "\n",
    "# Set the locations and labels of the tick marks on the X-axis for each 2 years\n",
    "graph.set_xticks(germany_gdp_df['YEAR'][::2])\n",
    "graph.set_xticklabels(germany_gdp_df['YEAR'][::2], rotation=90)\n",
    "\n",
    "# Plot the red line going from the minimum to the maximum GDP\n",
    "plt.plot([germany_gdp_df['YEAR'].min(), germany_gdp_df['YEAR'].max()], [germany_gdp_df['GDP'].min(), germany_gdp_df['GDP'].max()], '-r')\n",
    "\n",
    "# Set limits for the Y-axis\n",
    "plt.ylim(0, int(germany_gdp_df['GDP'].max() * 1.1))\n",
    "\n",
    "# Show the graph\n",
    "plt.show()\n"
   ]
  },
  {
   "cell_type": "code",
   "execution_count": 85,
   "metadata": {},
   "outputs": [
    {
     "data": {
      "text/html": [
       "<div>\n",
       "<style scoped>\n",
       "    .dataframe tbody tr th:only-of-type {\n",
       "        vertical-align: middle;\n",
       "    }\n",
       "\n",
       "    .dataframe tbody tr th {\n",
       "        vertical-align: top;\n",
       "    }\n",
       "\n",
       "    .dataframe thead th {\n",
       "        text-align: right;\n",
       "    }\n",
       "</style>\n",
       "<table border=\"1\" class=\"dataframe\">\n",
       "  <thead>\n",
       "    <tr style=\"text-align: right;\">\n",
       "      <th></th>\n",
       "      <th>YEAR</th>\n",
       "      <th>GDP</th>\n",
       "    </tr>\n",
       "  </thead>\n",
       "  <tbody>\n",
       "    <tr>\n",
       "      <th>10</th>\n",
       "      <td>1970</td>\n",
       "      <td>2.158384e+11</td>\n",
       "    </tr>\n",
       "    <tr>\n",
       "      <th>11</th>\n",
       "      <td>1971</td>\n",
       "      <td>2.499851e+11</td>\n",
       "    </tr>\n",
       "    <tr>\n",
       "      <th>12</th>\n",
       "      <td>1972</td>\n",
       "      <td>2.998015e+11</td>\n",
       "    </tr>\n",
       "  </tbody>\n",
       "</table>\n",
       "</div>"
      ],
      "text/plain": [
       "    YEAR           GDP\n",
       "10  1970  2.158384e+11\n",
       "11  1971  2.499851e+11\n",
       "12  1972  2.998015e+11"
      ]
     },
     "execution_count": 85,
     "metadata": {},
     "output_type": "execute_result"
    }
   ],
   "source": [
    "germany_gdp_df.head(3)"
   ]
  },
  {
   "cell_type": "code",
   "execution_count": 86,
   "metadata": {},
   "outputs": [
    {
     "data": {
      "text/html": [
       "<div>\n",
       "<style scoped>\n",
       "    .dataframe tbody tr th:only-of-type {\n",
       "        vertical-align: middle;\n",
       "    }\n",
       "\n",
       "    .dataframe tbody tr th {\n",
       "        vertical-align: top;\n",
       "    }\n",
       "\n",
       "    .dataframe thead th {\n",
       "        text-align: right;\n",
       "    }\n",
       "</style>\n",
       "<table border=\"1\" class=\"dataframe\">\n",
       "  <thead>\n",
       "    <tr style=\"text-align: right;\">\n",
       "      <th></th>\n",
       "      <th>YEAR</th>\n",
       "      <th>GDP</th>\n",
       "      <th>pred</th>\n",
       "    </tr>\n",
       "  </thead>\n",
       "  <tbody>\n",
       "    <tr>\n",
       "      <th>10</th>\n",
       "      <td>1970</td>\n",
       "      <td>2.158384e+11</td>\n",
       "      <td>4.658624e+22</td>\n",
       "    </tr>\n",
       "    <tr>\n",
       "      <th>11</th>\n",
       "      <td>1971</td>\n",
       "      <td>2.499851e+11</td>\n",
       "      <td>5.395639e+22</td>\n",
       "    </tr>\n",
       "    <tr>\n",
       "      <th>12</th>\n",
       "      <td>1972</td>\n",
       "      <td>2.998015e+11</td>\n",
       "      <td>6.470870e+22</td>\n",
       "    </tr>\n",
       "  </tbody>\n",
       "</table>\n",
       "</div>"
      ],
      "text/plain": [
       "    YEAR           GDP          pred\n",
       "10  1970  2.158384e+11  4.658624e+22\n",
       "11  1971  2.499851e+11  5.395639e+22\n",
       "12  1972  2.998015e+11  6.470870e+22"
      ]
     },
     "execution_count": 86,
     "metadata": {},
     "output_type": "execute_result"
    }
   ],
   "source": [
    "# Calculation of predictions\n",
    "germany_gdp_df['pred'] = germany_gdp_df['GDP']*w+b\n",
    "germany_gdp_df.head(3)"
   ]
  },
  {
   "cell_type": "code",
   "execution_count": 88,
   "metadata": {},
   "outputs": [
    {
     "data": {
      "text/html": [
       "<div>\n",
       "<style scoped>\n",
       "    .dataframe tbody tr th:only-of-type {\n",
       "        vertical-align: middle;\n",
       "    }\n",
       "\n",
       "    .dataframe tbody tr th {\n",
       "        vertical-align: top;\n",
       "    }\n",
       "\n",
       "    .dataframe thead th {\n",
       "        text-align: right;\n",
       "    }\n",
       "</style>\n",
       "<table border=\"1\" class=\"dataframe\">\n",
       "  <thead>\n",
       "    <tr style=\"text-align: right;\">\n",
       "      <th></th>\n",
       "      <th>YEAR</th>\n",
       "      <th>GDP</th>\n",
       "      <th>pred</th>\n",
       "      <th>diff</th>\n",
       "      <th>square</th>\n",
       "    </tr>\n",
       "  </thead>\n",
       "  <tbody>\n",
       "    <tr>\n",
       "      <th>10</th>\n",
       "      <td>1970</td>\n",
       "      <td>2.158384e+11</td>\n",
       "      <td>4.658624e+22</td>\n",
       "      <td>4.658624e+22</td>\n",
       "      <td>2.170277e+45</td>\n",
       "    </tr>\n",
       "    <tr>\n",
       "      <th>11</th>\n",
       "      <td>1971</td>\n",
       "      <td>2.499851e+11</td>\n",
       "      <td>5.395639e+22</td>\n",
       "      <td>5.395639e+22</td>\n",
       "      <td>2.911292e+45</td>\n",
       "    </tr>\n",
       "    <tr>\n",
       "      <th>12</th>\n",
       "      <td>1972</td>\n",
       "      <td>2.998015e+11</td>\n",
       "      <td>6.470870e+22</td>\n",
       "      <td>6.470870e+22</td>\n",
       "      <td>4.187216e+45</td>\n",
       "    </tr>\n",
       "  </tbody>\n",
       "</table>\n",
       "</div>"
      ],
      "text/plain": [
       "    YEAR           GDP          pred          diff        square\n",
       "10  1970  2.158384e+11  4.658624e+22  4.658624e+22  2.170277e+45\n",
       "11  1971  2.499851e+11  5.395639e+22  5.395639e+22  2.911292e+45\n",
       "12  1972  2.998015e+11  6.470870e+22  6.470870e+22  4.187216e+45"
      ]
     },
     "execution_count": 88,
     "metadata": {},
     "output_type": "execute_result"
    }
   ],
   "source": [
    "# Calculation of the error function\n",
    "germany_gdp_df['diff'] = germany_gdp_df['pred'] - germany_gdp_df['GDP']\n",
    "germany_gdp_df['square'] = germany_gdp_df['diff'] **2\n",
    "germany_gdp_df.head(3)"
   ]
  },
  {
   "cell_type": "code",
   "execution_count": 89,
   "metadata": {},
   "outputs": [
    {
     "data": {
      "text/html": [
       "<div>\n",
       "<style scoped>\n",
       "    .dataframe tbody tr th:only-of-type {\n",
       "        vertical-align: middle;\n",
       "    }\n",
       "\n",
       "    .dataframe tbody tr th {\n",
       "        vertical-align: top;\n",
       "    }\n",
       "\n",
       "    .dataframe thead th {\n",
       "        text-align: right;\n",
       "    }\n",
       "</style>\n",
       "<table border=\"1\" class=\"dataframe\">\n",
       "  <thead>\n",
       "    <tr style=\"text-align: right;\">\n",
       "      <th></th>\n",
       "      <th>w</th>\n",
       "    </tr>\n",
       "  </thead>\n",
       "  <tbody>\n",
       "    <tr>\n",
       "      <th>0</th>\n",
       "      <td>1.000000e+11</td>\n",
       "    </tr>\n",
       "    <tr>\n",
       "      <th>1</th>\n",
       "      <td>1.023640e+11</td>\n",
       "    </tr>\n",
       "    <tr>\n",
       "      <th>2</th>\n",
       "      <td>1.047281e+11</td>\n",
       "    </tr>\n",
       "    <tr>\n",
       "      <th>3</th>\n",
       "      <td>1.070921e+11</td>\n",
       "    </tr>\n",
       "    <tr>\n",
       "      <th>4</th>\n",
       "      <td>1.094562e+11</td>\n",
       "    </tr>\n",
       "  </tbody>\n",
       "</table>\n",
       "</div>"
      ],
      "text/plain": [
       "              w\n",
       "0  1.000000e+11\n",
       "1  1.023640e+11\n",
       "2  1.047281e+11\n",
       "3  1.070921e+11\n",
       "4  1.094562e+11"
      ]
     },
     "execution_count": 89,
     "metadata": {},
     "output_type": "execute_result"
    }
   ],
   "source": [
    "# Function based on m, b=0\n",
    "\n",
    "w = np.linspace(100000000000, 215838448137, 50)\n",
    "grid_error = pd.DataFrame(w, columns=['w'])\n",
    "grid_error.head()"
   ]
  },
  {
   "cell_type": "code",
   "execution_count": 90,
   "metadata": {},
   "outputs": [],
   "source": [
    "def error(w, germany_gdp_df):\n",
    "    \"\"\"\n",
    "    Calculate the mean squared error for a given parameter 'w' and GDP data.\n",
    "\n",
    "    Args:\n",
    "    w (float): Parameter for prediction.\n",
    "    germany_gdp_df (pandas.DataFrame): DataFrame containing GDP data.\n",
    "\n",
    "    Returns:\n",
    "    float: Mean squared error.\n",
    "    \"\"\"\n",
    "    \n",
    "    b = 0\n",
    "    germany_gdp_df['pred'] = germany_gdp_df['GDP'] * w + b\n",
    "    germany_gdp_df['diff'] = germany_gdp_df['pred'] - germany_gdp_df['GDP']\n",
    "    germany_gdp_df['square'] = germany_gdp_df['diff'] ** 2\n",
    "    return germany_gdp_df['square'].mean()\n"
   ]
  },
  {
   "cell_type": "code",
   "execution_count": 91,
   "metadata": {},
   "outputs": [
    {
     "data": {
      "text/html": [
       "<div>\n",
       "<style scoped>\n",
       "    .dataframe tbody tr th:only-of-type {\n",
       "        vertical-align: middle;\n",
       "    }\n",
       "\n",
       "    .dataframe tbody tr th {\n",
       "        vertical-align: top;\n",
       "    }\n",
       "\n",
       "    .dataframe thead th {\n",
       "        text-align: right;\n",
       "    }\n",
       "</style>\n",
       "<table border=\"1\" class=\"dataframe\">\n",
       "  <thead>\n",
       "    <tr style=\"text-align: right;\">\n",
       "      <th></th>\n",
       "      <th>w</th>\n",
       "      <th>error</th>\n",
       "    </tr>\n",
       "  </thead>\n",
       "  <tbody>\n",
       "    <tr>\n",
       "      <th>0</th>\n",
       "      <td>1.000000e+11</td>\n",
       "      <td>5.962121e+46</td>\n",
       "    </tr>\n",
       "    <tr>\n",
       "      <th>1</th>\n",
       "      <td>1.023640e+11</td>\n",
       "      <td>6.247349e+46</td>\n",
       "    </tr>\n",
       "    <tr>\n",
       "      <th>2</th>\n",
       "      <td>1.047281e+11</td>\n",
       "      <td>6.539240e+46</td>\n",
       "    </tr>\n",
       "  </tbody>\n",
       "</table>\n",
       "</div>"
      ],
      "text/plain": [
       "              w         error\n",
       "0  1.000000e+11  5.962121e+46\n",
       "1  1.023640e+11  6.247349e+46\n",
       "2  1.047281e+11  6.539240e+46"
      ]
     },
     "execution_count": 91,
     "metadata": {},
     "output_type": "execute_result"
    }
   ],
   "source": [
    "# Compute error values for each 'w' in the DataFrame 'grid_error'\n",
    "grid_error['error'] = grid_error['w'].apply(lambda x: error(x, germany_gdp_df))\n",
    "grid_error.head(3)\n"
   ]
  },
  {
   "cell_type": "code",
   "execution_count": 92,
   "metadata": {},
   "outputs": [
    {
     "data": {
      "image/png": "[encoded data removed]",
      "text/plain": [
       "<Figure size 640x480 with 1 Axes>"
      ]
     },
     "metadata": {},
     "output_type": "display_data"
    }
   ],
   "source": [
    "# Show the error\n",
    "grid_error.plot(x='w',y='error')\n",
    "plt.show()"
   ]
  },
  {
   "cell_type": "code",
   "execution_count": 100,
   "metadata": {},
   "outputs": [
    {
     "name": "stdout",
     "output_type": "stream",
     "text": [
      "intercepto (b): 0.0\n",
      "pendiente (w): [1.05557634e+09]\n"
     ]
    }
   ],
   "source": [
    "# Input and output\n",
    "X_train = np.array(germany_gdp_df['YEAR']).reshape((-1, 1))\n",
    "Y_train = np.array(germany_gdp_df['GDP'])\n",
    "\n",
    "model = LinearRegression(fit_intercept=False)\n",
    "model.fit(X_train, Y_train)\n",
    "\n",
    "# New parameters for the model\n",
    "w_new = model.coef_\n",
    "\n",
    "print(f\"intercepto (b): {model.intercept_}\")\n",
    "print(f\"pendiente (w): {model.coef_}\")"
   ]
  },
  {
   "cell_type": "code",
   "execution_count": 101,
   "metadata": {},
   "outputs": [
    {
     "data": {
      "text/html": [
       "<div>\n",
       "<style scoped>\n",
       "    .dataframe tbody tr th:only-of-type {\n",
       "        vertical-align: middle;\n",
       "    }\n",
       "\n",
       "    .dataframe tbody tr th {\n",
       "        vertical-align: top;\n",
       "    }\n",
       "\n",
       "    .dataframe thead th {\n",
       "        text-align: right;\n",
       "    }\n",
       "</style>\n",
       "<table border=\"1\" class=\"dataframe\">\n",
       "  <thead>\n",
       "    <tr style=\"text-align: right;\">\n",
       "      <th></th>\n",
       "      <th>YEAR</th>\n",
       "      <th>GDP</th>\n",
       "      <th>pred</th>\n",
       "      <th>diff</th>\n",
       "      <th>square</th>\n",
       "    </tr>\n",
       "  </thead>\n",
       "  <tbody>\n",
       "    <tr>\n",
       "      <th>10</th>\n",
       "      <td>1970</td>\n",
       "      <td>2.158384e+11</td>\n",
       "      <td>2.278340e+20</td>\n",
       "      <td>4.658624e+22</td>\n",
       "      <td>2.170277e+45</td>\n",
       "    </tr>\n",
       "    <tr>\n",
       "      <th>11</th>\n",
       "      <td>1971</td>\n",
       "      <td>2.499851e+11</td>\n",
       "      <td>2.638783e+20</td>\n",
       "      <td>5.395639e+22</td>\n",
       "      <td>2.911292e+45</td>\n",
       "    </tr>\n",
       "    <tr>\n",
       "      <th>12</th>\n",
       "      <td>1972</td>\n",
       "      <td>2.998015e+11</td>\n",
       "      <td>3.164634e+20</td>\n",
       "      <td>6.470870e+22</td>\n",
       "      <td>4.187216e+45</td>\n",
       "    </tr>\n",
       "  </tbody>\n",
       "</table>\n",
       "</div>"
      ],
      "text/plain": [
       "    YEAR           GDP          pred          diff        square\n",
       "10  1970  2.158384e+11  2.278340e+20  4.658624e+22  2.170277e+45\n",
       "11  1971  2.499851e+11  2.638783e+20  5.395639e+22  2.911292e+45\n",
       "12  1972  2.998015e+11  3.164634e+20  6.470870e+22  4.187216e+45"
      ]
     },
     "execution_count": 101,
     "metadata": {},
     "output_type": "execute_result"
    }
   ],
   "source": [
    "# Calculation of predictions with new value of w\n",
    "germany_gdp_df['pred'] = germany_gdp_df['GDP']* w_new + b\n",
    "germany_gdp_df.head(3)"
   ]
  },
  {
   "cell_type": "code",
   "execution_count": 99,
   "metadata": {},
   "outputs": [
    {
     "name": "stdout",
     "output_type": "stream",
     "text": [
      "Archivo 'linearRegresion_Germany.xlsx' existente eliminado.\n",
      "Nuevo archivo 'linearRegresion_Germany.xlsx' creado.\n"
     ]
    }
   ],
   "source": [
    "name_file = 'linearRegresion_Germany.xlsx'\n",
    "\n",
    "# Try to delete the file if it exists\n",
    "try:\n",
    "    if os.path.exists(name_file):\n",
    "        os.remove(name_file)\n",
    "        print(f\"File '{name_file}' existing eliminated.\")\n",
    "except Exception as e:\n",
    "    print(f\"File could not be deleted: {e}\")\n",
    "\n",
    "# Intenta crear un nuevo archivo\n",
    "try:\n",
    "    germany_gdp_df.to_excel(name_file, index=False, engine='openpyxl')\n",
    "    print(f\"New file '{name_file}' created.\")\n",
    "except Exception as e:\n",
    "    print(f\"New file could not be created: {e}\")\n"
   ]
  }
 ],
 "metadata": {
  "kernelspec": {
   "display_name": "env",
   "language": "python",
   "name": "python3"
  },
  "language_info": {
   "codemirror_mode": {
    "name": "ipython",
    "version": 3
   },
   "file_extension": ".py",
   "mimetype": "text/x-python",
   "name": "python",
   "nbconvert_exporter": "python",
   "pygments_lexer": "ipython3",
   "version": "3.11.6"
  }
 },
 "nbformat": 4,
 "nbformat_minor": 2
}
